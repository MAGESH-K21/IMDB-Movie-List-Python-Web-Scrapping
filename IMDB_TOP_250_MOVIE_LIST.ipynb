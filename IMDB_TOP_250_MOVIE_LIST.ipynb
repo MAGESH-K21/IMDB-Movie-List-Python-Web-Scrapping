{
  "nbformat": 4,
  "nbformat_minor": 0,
  "metadata": {
    "colab": {
      "name": "IMDB TOP 250 MOVIE LIST.ipynb",
      "provenance": [],
      "collapsed_sections": [],
      "authorship_tag": "ABX9TyNVV0v9AKT+Ajlu4luViMz2",
      "include_colab_link": true
    },
    "kernelspec": {
      "name": "python3",
      "display_name": "Python 3"
    },
    "language_info": {
      "name": "python"
    }
  },
  "cells": [
    {
      "cell_type": "markdown",
      "metadata": {
        "id": "view-in-github",
        "colab_type": "text"
      },
      "source": [
        "<a href=\"https://colab.research.google.com/github/MAGESH-K21/IMDB-Movie-List-Python-Web-Scrapping/blob/main/IMDB_TOP_250_MOVIE_LIST.ipynb\" target=\"_parent\"><img src=\"https://colab.research.google.com/assets/colab-badge.svg\" alt=\"Open In Colab\"/></a>"
      ]
    },
    {
      "cell_type": "code",
      "execution_count": null,
      "metadata": {
        "id": "XhpfGOzVBmn_"
      },
      "outputs": [],
      "source": [
        "from logging import exception\n",
        "from pydoc import source_synopsis\n",
        "from urllib import response\n",
        "from bs4 import BeautifulSoup\n",
        "import requests, openpyxl\n",
        "\n",
        "excel=openpyxl.Workbook()\n",
        "sheet=excel.active\n",
        "sheet.title=\"IMDB TOP 250 MOVIE LIST\"\n",
        "sheet.append(['rank','Movie Name','Release Year','IMDB Rating'])\n",
        "\n",
        "\n",
        "try:\n",
        "    response=requests.get(\"https://www.imdb.com/chart/top/\")\n",
        "    soup=BeautifulSoup(response.text,'html.parser')\n",
        "    #print(soup)\n",
        "    movies=soup.find('tbody',class_=\"lister-list\").find_all(\"tr\")\n",
        "    \n",
        "    for movie in movies:\n",
        "      #print(movie)\n",
        "      rank = movie.find('td',class_=\"titleColumn\").get_text(strip=True).split('.')[0]\n",
        "      movie_name = movie.find('td',class_=\"titleColumn\").a.text\n",
        "      rate = movie.find('td',class_=\"ratingColumn\").strong.text\n",
        "      year = movie.find('td',class_=\"titleColumn\").span.text.replace('(',\"\")\n",
        "      year=year.replace(')',\"\")\n",
        "      #print(rank,movie_name,year,rate)\n",
        "      sheet.append([rank,movie_name,year,rate])\n",
        "    \n",
        "      \n",
        "\n",
        "except exception as e:\n",
        "  print(e)\n",
        "\n",
        "excel.save(\"IMDB TOP 250 MOVIE LIST.xlsx\")"
      ]
    }
  ]
}